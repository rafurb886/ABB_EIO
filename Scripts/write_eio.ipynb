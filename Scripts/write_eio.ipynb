{
 "cells": [
  {
   "cell_type": "code",
   "execution_count": 1,
   "id": "bc25d876",
   "metadata": {},
   "outputs": [],
   "source": [
    "import regex as re\n",
    "import pandas as pd\n",
    "import numpy as np\n",
    "import itertools"
   ]
  },
  {
   "cell_type": "code",
   "execution_count": 2,
   "id": "ba711146",
   "metadata": {},
   "outputs": [],
   "source": [
    "excel_file = pd.ExcelFile(r'H:\\PythonProjects\\ABB_EIO_translation\\files\\EIO_test1.xlsx')"
   ]
  },
  {
   "cell_type": "code",
   "execution_count": 3,
   "id": "23c3ea6f",
   "metadata": {},
   "outputs": [],
   "source": [
    "df_input = pd.read_excel(excel_file, sheet_name='INPUT')\n",
    "df_output = pd.read_excel(excel_file, sheet_name='OUTPUT')"
   ]
  },
  {
   "cell_type": "code",
   "execution_count": 4,
   "id": "37c5dbc2",
   "metadata": {},
   "outputs": [],
   "source": [
    "df_all = df_input.append(df_output)"
   ]
  },
  {
   "cell_type": "code",
   "execution_count": 6,
   "id": "f9097342",
   "metadata": {},
   "outputs": [
    {
     "ename": "KeyError",
     "evalue": "\"['Unnamed: 0' 'DeviceMapToSort'] not found in axis\"",
     "output_type": "error",
     "traceback": [
      "\u001b[1;31m---------------------------------------------------------------------------\u001b[0m",
      "\u001b[1;31mKeyError\u001b[0m                                  Traceback (most recent call last)",
      "\u001b[1;32mC:\\Users\\RAFA~1\\AppData\\Local\\Temp/ipykernel_20192/2764587348.py\u001b[0m in \u001b[0;36m<module>\u001b[1;34m\u001b[0m\n\u001b[0;32m      1\u001b[0m \u001b[0mdf_all\u001b[0m\u001b[1;33m.\u001b[0m\u001b[0mset_index\u001b[0m\u001b[1;33m(\u001b[0m\u001b[1;34m'Name'\u001b[0m\u001b[1;33m)\u001b[0m \u001b[1;31m# jesli unikatowe\u001b[0m\u001b[1;33m\u001b[0m\u001b[1;33m\u001b[0m\u001b[0m\n\u001b[1;32m----> 2\u001b[1;33m \u001b[0mdf_all\u001b[0m \u001b[1;33m=\u001b[0m \u001b[0mdf_all\u001b[0m\u001b[1;33m.\u001b[0m\u001b[0mdrop\u001b[0m\u001b[1;33m(\u001b[0m\u001b[1;33m[\u001b[0m\u001b[1;34m'Unnamed: 0'\u001b[0m\u001b[1;33m,\u001b[0m \u001b[1;34m'DeviceMapToSort'\u001b[0m\u001b[1;33m]\u001b[0m\u001b[1;33m,\u001b[0m \u001b[0maxis\u001b[0m \u001b[1;33m=\u001b[0m \u001b[1;36m1\u001b[0m\u001b[1;33m)\u001b[0m\u001b[1;33m\u001b[0m\u001b[1;33m\u001b[0m\u001b[0m\n\u001b[0m",
      "\u001b[1;32mC:\\ProgramData\\Anaconda3\\lib\\site-packages\\pandas\\util\\_decorators.py\u001b[0m in \u001b[0;36mwrapper\u001b[1;34m(*args, **kwargs)\u001b[0m\n\u001b[0;32m    309\u001b[0m                     \u001b[0mstacklevel\u001b[0m\u001b[1;33m=\u001b[0m\u001b[0mstacklevel\u001b[0m\u001b[1;33m,\u001b[0m\u001b[1;33m\u001b[0m\u001b[1;33m\u001b[0m\u001b[0m\n\u001b[0;32m    310\u001b[0m                 )\n\u001b[1;32m--> 311\u001b[1;33m             \u001b[1;32mreturn\u001b[0m \u001b[0mfunc\u001b[0m\u001b[1;33m(\u001b[0m\u001b[1;33m*\u001b[0m\u001b[0margs\u001b[0m\u001b[1;33m,\u001b[0m \u001b[1;33m**\u001b[0m\u001b[0mkwargs\u001b[0m\u001b[1;33m)\u001b[0m\u001b[1;33m\u001b[0m\u001b[1;33m\u001b[0m\u001b[0m\n\u001b[0m\u001b[0;32m    312\u001b[0m \u001b[1;33m\u001b[0m\u001b[0m\n\u001b[0;32m    313\u001b[0m         \u001b[1;32mreturn\u001b[0m \u001b[0mwrapper\u001b[0m\u001b[1;33m\u001b[0m\u001b[1;33m\u001b[0m\u001b[0m\n",
      "\u001b[1;32mC:\\ProgramData\\Anaconda3\\lib\\site-packages\\pandas\\core\\frame.py\u001b[0m in \u001b[0;36mdrop\u001b[1;34m(self, labels, axis, index, columns, level, inplace, errors)\u001b[0m\n\u001b[0;32m   4904\u001b[0m                 \u001b[0mweight\u001b[0m  \u001b[1;36m1.0\u001b[0m     \u001b[1;36m0.8\u001b[0m\u001b[1;33m\u001b[0m\u001b[1;33m\u001b[0m\u001b[0m\n\u001b[0;32m   4905\u001b[0m         \"\"\"\n\u001b[1;32m-> 4906\u001b[1;33m         return super().drop(\n\u001b[0m\u001b[0;32m   4907\u001b[0m             \u001b[0mlabels\u001b[0m\u001b[1;33m=\u001b[0m\u001b[0mlabels\u001b[0m\u001b[1;33m,\u001b[0m\u001b[1;33m\u001b[0m\u001b[1;33m\u001b[0m\u001b[0m\n\u001b[0;32m   4908\u001b[0m             \u001b[0maxis\u001b[0m\u001b[1;33m=\u001b[0m\u001b[0maxis\u001b[0m\u001b[1;33m,\u001b[0m\u001b[1;33m\u001b[0m\u001b[1;33m\u001b[0m\u001b[0m\n",
      "\u001b[1;32mC:\\ProgramData\\Anaconda3\\lib\\site-packages\\pandas\\core\\generic.py\u001b[0m in \u001b[0;36mdrop\u001b[1;34m(self, labels, axis, index, columns, level, inplace, errors)\u001b[0m\n\u001b[0;32m   4148\u001b[0m         \u001b[1;32mfor\u001b[0m \u001b[0maxis\u001b[0m\u001b[1;33m,\u001b[0m \u001b[0mlabels\u001b[0m \u001b[1;32min\u001b[0m \u001b[0maxes\u001b[0m\u001b[1;33m.\u001b[0m\u001b[0mitems\u001b[0m\u001b[1;33m(\u001b[0m\u001b[1;33m)\u001b[0m\u001b[1;33m:\u001b[0m\u001b[1;33m\u001b[0m\u001b[1;33m\u001b[0m\u001b[0m\n\u001b[0;32m   4149\u001b[0m             \u001b[1;32mif\u001b[0m \u001b[0mlabels\u001b[0m \u001b[1;32mis\u001b[0m \u001b[1;32mnot\u001b[0m \u001b[1;32mNone\u001b[0m\u001b[1;33m:\u001b[0m\u001b[1;33m\u001b[0m\u001b[1;33m\u001b[0m\u001b[0m\n\u001b[1;32m-> 4150\u001b[1;33m                 \u001b[0mobj\u001b[0m \u001b[1;33m=\u001b[0m \u001b[0mobj\u001b[0m\u001b[1;33m.\u001b[0m\u001b[0m_drop_axis\u001b[0m\u001b[1;33m(\u001b[0m\u001b[0mlabels\u001b[0m\u001b[1;33m,\u001b[0m \u001b[0maxis\u001b[0m\u001b[1;33m,\u001b[0m \u001b[0mlevel\u001b[0m\u001b[1;33m=\u001b[0m\u001b[0mlevel\u001b[0m\u001b[1;33m,\u001b[0m \u001b[0merrors\u001b[0m\u001b[1;33m=\u001b[0m\u001b[0merrors\u001b[0m\u001b[1;33m)\u001b[0m\u001b[1;33m\u001b[0m\u001b[1;33m\u001b[0m\u001b[0m\n\u001b[0m\u001b[0;32m   4151\u001b[0m \u001b[1;33m\u001b[0m\u001b[0m\n\u001b[0;32m   4152\u001b[0m         \u001b[1;32mif\u001b[0m \u001b[0minplace\u001b[0m\u001b[1;33m:\u001b[0m\u001b[1;33m\u001b[0m\u001b[1;33m\u001b[0m\u001b[0m\n",
      "\u001b[1;32mC:\\ProgramData\\Anaconda3\\lib\\site-packages\\pandas\\core\\generic.py\u001b[0m in \u001b[0;36m_drop_axis\u001b[1;34m(self, labels, axis, level, errors)\u001b[0m\n\u001b[0;32m   4183\u001b[0m                 \u001b[0mnew_axis\u001b[0m \u001b[1;33m=\u001b[0m \u001b[0maxis\u001b[0m\u001b[1;33m.\u001b[0m\u001b[0mdrop\u001b[0m\u001b[1;33m(\u001b[0m\u001b[0mlabels\u001b[0m\u001b[1;33m,\u001b[0m \u001b[0mlevel\u001b[0m\u001b[1;33m=\u001b[0m\u001b[0mlevel\u001b[0m\u001b[1;33m,\u001b[0m \u001b[0merrors\u001b[0m\u001b[1;33m=\u001b[0m\u001b[0merrors\u001b[0m\u001b[1;33m)\u001b[0m\u001b[1;33m\u001b[0m\u001b[1;33m\u001b[0m\u001b[0m\n\u001b[0;32m   4184\u001b[0m             \u001b[1;32melse\u001b[0m\u001b[1;33m:\u001b[0m\u001b[1;33m\u001b[0m\u001b[1;33m\u001b[0m\u001b[0m\n\u001b[1;32m-> 4185\u001b[1;33m                 \u001b[0mnew_axis\u001b[0m \u001b[1;33m=\u001b[0m \u001b[0maxis\u001b[0m\u001b[1;33m.\u001b[0m\u001b[0mdrop\u001b[0m\u001b[1;33m(\u001b[0m\u001b[0mlabels\u001b[0m\u001b[1;33m,\u001b[0m \u001b[0merrors\u001b[0m\u001b[1;33m=\u001b[0m\u001b[0merrors\u001b[0m\u001b[1;33m)\u001b[0m\u001b[1;33m\u001b[0m\u001b[1;33m\u001b[0m\u001b[0m\n\u001b[0m\u001b[0;32m   4186\u001b[0m             \u001b[0mresult\u001b[0m \u001b[1;33m=\u001b[0m \u001b[0mself\u001b[0m\u001b[1;33m.\u001b[0m\u001b[0mreindex\u001b[0m\u001b[1;33m(\u001b[0m\u001b[1;33m**\u001b[0m\u001b[1;33m{\u001b[0m\u001b[0maxis_name\u001b[0m\u001b[1;33m:\u001b[0m \u001b[0mnew_axis\u001b[0m\u001b[1;33m}\u001b[0m\u001b[1;33m)\u001b[0m\u001b[1;33m\u001b[0m\u001b[1;33m\u001b[0m\u001b[0m\n\u001b[0;32m   4187\u001b[0m \u001b[1;33m\u001b[0m\u001b[0m\n",
      "\u001b[1;32mC:\\ProgramData\\Anaconda3\\lib\\site-packages\\pandas\\core\\indexes\\base.py\u001b[0m in \u001b[0;36mdrop\u001b[1;34m(self, labels, errors)\u001b[0m\n\u001b[0;32m   6015\u001b[0m         \u001b[1;32mif\u001b[0m \u001b[0mmask\u001b[0m\u001b[1;33m.\u001b[0m\u001b[0many\u001b[0m\u001b[1;33m(\u001b[0m\u001b[1;33m)\u001b[0m\u001b[1;33m:\u001b[0m\u001b[1;33m\u001b[0m\u001b[1;33m\u001b[0m\u001b[0m\n\u001b[0;32m   6016\u001b[0m             \u001b[1;32mif\u001b[0m \u001b[0merrors\u001b[0m \u001b[1;33m!=\u001b[0m \u001b[1;34m\"ignore\"\u001b[0m\u001b[1;33m:\u001b[0m\u001b[1;33m\u001b[0m\u001b[1;33m\u001b[0m\u001b[0m\n\u001b[1;32m-> 6017\u001b[1;33m                 \u001b[1;32mraise\u001b[0m \u001b[0mKeyError\u001b[0m\u001b[1;33m(\u001b[0m\u001b[1;34mf\"{labels[mask]} not found in axis\"\u001b[0m\u001b[1;33m)\u001b[0m\u001b[1;33m\u001b[0m\u001b[1;33m\u001b[0m\u001b[0m\n\u001b[0m\u001b[0;32m   6018\u001b[0m             \u001b[0mindexer\u001b[0m \u001b[1;33m=\u001b[0m \u001b[0mindexer\u001b[0m\u001b[1;33m[\u001b[0m\u001b[1;33m~\u001b[0m\u001b[0mmask\u001b[0m\u001b[1;33m]\u001b[0m\u001b[1;33m\u001b[0m\u001b[1;33m\u001b[0m\u001b[0m\n\u001b[0;32m   6019\u001b[0m         \u001b[1;32mreturn\u001b[0m \u001b[0mself\u001b[0m\u001b[1;33m.\u001b[0m\u001b[0mdelete\u001b[0m\u001b[1;33m(\u001b[0m\u001b[0mindexer\u001b[0m\u001b[1;33m)\u001b[0m\u001b[1;33m\u001b[0m\u001b[1;33m\u001b[0m\u001b[0m\n",
      "\u001b[1;31mKeyError\u001b[0m: \"['Unnamed: 0' 'DeviceMapToSort'] not found in axis\""
     ]
    }
   ],
   "source": [
    "df_all.set_index('Name') # jesli unikatowe\n",
    "df_all = df_all.drop(['Unnamed: 0', 'DeviceMapToSort'], axis = 1)"
   ]
  },
  {
   "cell_type": "code",
   "execution_count": 6,
   "id": "9c2d3dd3",
   "metadata": {},
   "outputs": [],
   "source": [
    "df_all = df_all.reset_index()\n"
   ]
  },
  {
   "cell_type": "code",
   "execution_count": 7,
   "id": "66bb71c9",
   "metadata": {},
   "outputs": [],
   "source": [
    "columns_name = ['Name', 'SignalType', 'Device', 'Label', 'DeviceMap', 'Category', 'Access', 'Default', 'SafeLevel', 'EncType', 'MaxLog', 'MaxPhys', 'MaxPhysLimit', 'MaxBitVal', 'MinLog', 'MinPhys', 'MinPhysLimit', 'MinBitVal']\n",
    "with_apostrophe = ['Name', 'SignalType', 'Device', 'Label', 'DeviceMap', 'Category', 'Access', 'SafeLevel', 'EncType']\n",
    "without_apostrophe = set(columns_name).difference(set(with_apostrophe))"
   ]
  },
  {
   "cell_type": "code",
   "execution_count": 8,
   "id": "6c8a1e41",
   "metadata": {},
   "outputs": [],
   "source": [
    "def write_line_to_cfg(line):\n",
    "    result_string = ''\n",
    "    for column in columns_name:\n",
    "        if not pd.isnull(line[column]):\n",
    "            if column in with_apostrophe:\n",
    "                try: \n",
    "                    if line[column].upper() not in ['NAN']:\n",
    "                        result_string += f'-{column} \"{line[column]}\"\\\\\\n'\n",
    "                except:\n",
    "                    pass\n",
    "            if column in without_apostrophe:\n",
    "                 result_string += f'-{column}{line[column]}\\\\\\n'\n",
    "    return result_string[:-2] + '\\n'*2\n",
    "    "
   ]
  },
  {
   "cell_type": "code",
   "execution_count": 9,
   "id": "52cc9ac5",
   "metadata": {
    "scrolled": true
   },
   "outputs": [],
   "source": [
    "to_print = df_all.apply(write_line_to_cfg, axis=1)"
   ]
  },
  {
   "cell_type": "code",
   "execution_count": 10,
   "id": "bbbb0e0d",
   "metadata": {},
   "outputs": [],
   "source": [
    "with open('result_EIO.txt', 'w') as f:\n",
    "    #to_print = df_all['result_str'].to_string(index=False)\n",
    "    f.writelines(to_print)"
   ]
  },
  {
   "cell_type": "code",
   "execution_count": 11,
   "id": "f45c6d6a",
   "metadata": {},
   "outputs": [],
   "source": [
    "with open('result_EIO.txt', 'r') as f:\n",
    "    #to_print = df_all['result_str'].to_string(index=False)\n",
    "    strin = f.read()"
   ]
  },
  {
   "cell_type": "code",
   "execution_count": 12,
   "id": "678b5265",
   "metadata": {},
   "outputs": [],
   "source": [
    "df_all[['Label', 'Category', 'Access', 'SafeLevel', 'EncType']] = df_all[['Label', 'Category', 'Access', 'SafeLevel', 'EncType']].astype('str')\n",
    "def upper_case_nan(x):\n",
    "    return 'NAN' if x == 'nan' else x\n",
    "df_all['Label'] = df_all['Label'].apply(upper_case_nan)\n",
    "df_all['Category'] = df_all['Category'].apply(upper_case_nan)\n",
    "df_all['Access'] = df_all['Access'].apply(upper_case_nan)\n",
    "df_all['SafeLevel'] = df_all['SafeLevel'].apply(upper_case_nan)\n",
    "df_all['EncType'] = df_all['EncType'].apply(upper_case_nan)"
   ]
  },
  {
   "cell_type": "code",
   "execution_count": 13,
   "id": "f7d67cdc",
   "metadata": {},
   "outputs": [],
   "source": [
    "# df_all.loc[1, 'SignalType'] = 'da'\n",
    "# df_all.loc[0, 'Label'] = '@#'\n",
    "df_all.loc[1, 'Name'] = 'dsd$'\n",
    "df_all.loc[0, 'DeviceMap'] = '111111'\n",
    "# df_all.loc[1, 'Category'] = 'asdas&'\n",
    "# df_all.loc[1, 'Access'] = 'asd'\n",
    "# df_all.loc[1, 'SafeLevel'] = 'aasdasdsa'\n",
    "#df_all.loc[1, 'EncType'] = 'asdas'\n",
    "#df_all.loc[1, 'MaxLog'] = 'asdas'\n",
    "#df_all.loc[1, 'MaxPhysLimit'] = 'asdas'\n",
    "#df_all.loc[1, 'Default'] = 'asdas'"
   ]
  },
  {
   "cell_type": "code",
   "execution_count": 14,
   "id": "10e1a618",
   "metadata": {},
   "outputs": [],
   "source": [
    "available_signal_type = ['AI', 'AO', 'DI', 'DO', 'GI', 'GO']\n",
    "def check_signal_type(line):\n",
    "    if line['SignalType'].upper() in available_signal_type:\n",
    "        line['SignalType'] = line['SignalType'].upper()\n",
    "        return line\n",
    "    line['SignalType'] = input(f'Wrong type of signal {line.Name}. Current type: {line.SignalType}  \\n Enter correct type: ')\n",
    "    return check_signal_type(line)\n",
    "    "
   ]
  },
  {
   "cell_type": "code",
   "execution_count": 15,
   "id": "e9b7aacb",
   "metadata": {},
   "outputs": [],
   "source": [
    "def check_correct_character(string_to_check, regex_str = r'[_a-zA-Z0-9]+', available_null=False):\n",
    "    if not available_null: #dodac nulla\n",
    "        pattern = re.compile(regex_str)\n",
    "        return pattern.fullmatch(string_to_check)\n"
   ]
  },
  {
   "cell_type": "code",
   "execution_count": 16,
   "id": "3ae78499",
   "metadata": {},
   "outputs": [],
   "source": [
    "def check_name(line, column_name):\n",
    "    if check_correct_character(line[column_name]): \n",
    "        return line\n",
    "    line[column_name] = input(f'Wrong {column_name}: {line[column_name]}. \\nEnter correct {column_name}: ')\n",
    "    return check_name(line, column_name)\n"
   ]
  },
  {
   "cell_type": "code",
   "execution_count": 17,
   "id": "6c03817f",
   "metadata": {},
   "outputs": [],
   "source": [
    "def check_device_str(name, column_name):\n",
    "    if check_correct_character(name): \n",
    "        return name\n",
    "    name = input(f'Wrong {column_name} name: {name}. \\nEnter correct name: ')\n",
    "    return check_device_str(name, column_name)"
   ]
  },
  {
   "cell_type": "code",
   "execution_count": 18,
   "id": "603a6cef",
   "metadata": {},
   "outputs": [],
   "source": [
    "def check_label_str(label, column_name='Label'):\n",
    "    if check_correct_character(label, regex_str='[\\w _]+'): \n",
    "        return label\n",
    "    label = input(f'Wrong {column_name} name: {label}. \\nEnter correct name: ')\n",
    "    return check_label_str(label, column_name)\n"
   ]
  },
  {
   "cell_type": "code",
   "execution_count": 19,
   "id": "c07226e5",
   "metadata": {},
   "outputs": [],
   "source": [
    "def check_mapping(line, column_name='DeviceMap'):\n",
    "    pattern = re.compile(r'(\\d{1,4})(-\\d{1,4})?')\n",
    "    if pattern.fullmatch(line['DeviceMap'].strip()):\n",
    "        return line\n",
    "    line['DeviceMap'] = input(f'Wrong {column_name} name: {line[column_name]}. \\nEnter correct {column_name}: ')\n",
    "    return check_mapping(line, column_name)"
   ]
  },
  {
   "cell_type": "code",
   "execution_count": 20,
   "id": "baab892f",
   "metadata": {},
   "outputs": [],
   "source": [
    "def check_category(line, column_name='Category'):\n",
    "    if check_correct_character(line['Category']): \n",
    "        return line\n",
    "    line['Category'] = input(f'Wrong {column_name} name: {line.Category}. \\nEnter correct name: ')\n",
    "    return check_category(line, column_name)\n"
   ]
  },
  {
   "cell_type": "code",
   "execution_count": 21,
   "id": "1ea4482f",
   "metadata": {},
   "outputs": [],
   "source": [
    "available_signal_safe_level = ['SAFETYSAFELEVEL', 'NAN']\n",
    "def check_safe_level(line, column_name='safe_level'):\n",
    "    if line['SafeLevel'].strip().upper() in available_signal_safe_level:\n",
    "        return line\n",
    "    line['SafeLevel'] = input(f'Wrong {column_name}. Current type: {line.SafeLevel}  \\n Enter correct type: ')\n",
    "    return check_safe_level(line)"
   ]
  },
  {
   "cell_type": "code",
   "execution_count": 22,
   "id": "19be129b",
   "metadata": {},
   "outputs": [],
   "source": [
    "available_signal_access = ['READONLY', 'NAN']\n",
    "def check_access(line, column_name='Access'):\n",
    "    if line['Access'].strip().upper() in available_signal_access:\n",
    "        return line\n",
    "    line['Access'] = input(f'Wrong {column_name}. Current type: {line.Access}  \\n Enter correct type: ')\n",
    "    return check_access(line)"
   ]
  },
  {
   "cell_type": "code",
   "execution_count": 23,
   "id": "6256e013",
   "metadata": {},
   "outputs": [],
   "source": [
    "available_signal_enctype = ['UNSIGNED', 'SIGNED', 'NAN']\n",
    "def check_enctype(line, column_name='EncType'):\n",
    "    if line['EncType'].strip().upper() in available_signal_enctype:\n",
    "        line['EncType'] = line['EncType'].upper()\n",
    "        return line\n",
    "    line['EncType'] = input(f'Wrong {column_name}.{type(line.EncType)}  Current type: {line.EncType}  \\n Enter correct type: ')\n",
    "    return check_enctype(line)"
   ]
  },
  {
   "cell_type": "code",
   "execution_count": 24,
   "id": "196d1d1c",
   "metadata": {},
   "outputs": [],
   "source": [
    "def check_is_digit(line, column_name=[]):\n",
    "    for column in column_name:\n",
    "        try:\n",
    "            line[column_name] = float(line[column])\n",
    "        except:\n",
    "            line[column] = input(f'{column} is not digit. Current value: {line[column]}  \\n Enter correct value: ')\n",
    "            check_is_digit(line, [column])\n",
    "    line[column_name] = line[column_name].astype('float')\n",
    "    return line"
   ]
  },
  {
   "cell_type": "code",
   "execution_count": 25,
   "id": "049b4e03",
   "metadata": {},
   "outputs": [],
   "source": [
    "def try_read_number(text):\n",
    "    try:\n",
    "        return float(input(text))\n",
    "        \n",
    "    except:\n",
    "        print('To nie jest liczba')"
   ]
  },
  {
   "cell_type": "code",
   "execution_count": 26,
   "id": "26e82fb8",
   "metadata": {},
   "outputs": [],
   "source": [
    "def check_default(line, column_name='Default'):\n",
    "    try:\n",
    "        to_test = float(line[column_name])\n",
    "        if line['SignalType'] in ['DI', 'DO'] and not line[column_name] in [0, 1] \\\n",
    "        or line['SignalType'] in ['GI', 'GO'] and not line[column_name] % 1 == 0:\n",
    "            if not pd.isna(line[column_name]): \n",
    "                raise 'make exception'\n",
    "        return line\n",
    "    except:\n",
    "        line[column_name] = try_read_number(f'Default value in signal {line.Name} is not valid. Current value: {line.Default} in signal type {line.SignalType} \\n Enter correct value: ')\n",
    "        check_default(line)\n",
    "    return line"
   ]
  },
  {
   "cell_type": "code",
   "execution_count": 27,
   "id": "20268be9",
   "metadata": {},
   "outputs": [],
   "source": [
    "def check_all_cells(line):\n",
    "    line['Name'] = check_name(line, 'Name')\n",
    "    line['Device'] = check_device_str(line['Device'], 'Device')\n",
    "    line['Label'] = check_label_str(line['Label'])\n",
    "    line = check_signal_type(line)\n",
    "    line = check_mapping(line)\n",
    "    line = check_category(line)\n",
    "    line = check_safe_level(line)\n",
    "    line = check_access(line)\n",
    "    line = check_enctype(line)\n",
    "    line = check_default(line)\n",
    "    # dodać podział na int i float?\n",
    "    line = check_is_digit(line, ['MaxLog', 'MaxPhys', 'MaxPhysLimit', 'MaxBitVal', 'MinLog', 'MinPhys', 'MinPhysLimit', 'MinBitVal']) \n",
    "    return line\n",
    "    "
   ]
  },
  {
   "cell_type": "code",
   "execution_count": 28,
   "id": "cf2e7b4e",
   "metadata": {
    "scrolled": true
   },
   "outputs": [
    {
     "name": "stdout",
     "output_type": "stream",
     "text": [
      "Wrong DeviceMap name: 111111. \n",
      "Enter correct DeviceMap: asf\n",
      "Wrong DeviceMap name: asf. \n",
      "Enter correct DeviceMap: 12\n",
      "Wrong Name: dsd$. \n",
      "Enter correct Name: sfsf123@\n",
      "Wrong Name: sfsf123@. \n",
      "Enter correct Name: 123124212523\n"
     ]
    }
   ],
   "source": [
    "df_all = df_all.apply(check_all_cells, 1)"
   ]
  },
  {
   "cell_type": "code",
   "execution_count": null,
   "id": "def4d52d",
   "metadata": {},
   "outputs": [],
   "source": [
    "df_all.head()"
   ]
  },
  {
   "cell_type": "code",
   "execution_count": null,
   "id": "466318a8",
   "metadata": {},
   "outputs": [],
   "source": [
    "df_all['Default'].describe()"
   ]
  },
  {
   "cell_type": "code",
   "execution_count": null,
   "id": "ff468431",
   "metadata": {},
   "outputs": [],
   "source": [
    "df_all.loc[2, 'Default']"
   ]
  },
  {
   "cell_type": "code",
   "execution_count": null,
   "id": "f0d53e7e",
   "metadata": {},
   "outputs": [],
   "source": [
    "if df_all.loc[2, 'Default'] is None: \n",
    "    print('jestem tu')\n",
    "else:\n",
    "    print('zle')"
   ]
  },
  {
   "cell_type": "code",
   "execution_count": null,
   "id": "ccf47882",
   "metadata": {},
   "outputs": [],
   "source": [
    "isinstance(df_all.loc[3, 'Default'], float)"
   ]
  },
  {
   "cell_type": "code",
   "execution_count": null,
   "id": "c0eea980",
   "metadata": {},
   "outputs": [],
   "source": [
    "float(df_all.loc[3, 'Default'])"
   ]
  },
  {
   "cell_type": "code",
   "execution_count": null,
   "id": "140c658e",
   "metadata": {
    "scrolled": false
   },
   "outputs": [],
   "source": [
    "pd.isna\n"
   ]
  },
  {
   "cell_type": "code",
   "execution_count": null,
   "id": "37bab5da",
   "metadata": {},
   "outputs": [],
   "source": [
    "pd.isna(df_all.loc[2,'Default'])\n"
   ]
  },
  {
   "cell_type": "code",
   "execution_count": null,
   "id": "a90b2ae5",
   "metadata": {},
   "outputs": [],
   "source": [
    "df_all\n"
   ]
  },
  {
   "cell_type": "code",
   "execution_count": null,
   "id": "4dab0cc8",
   "metadata": {},
   "outputs": [],
   "source": [
    "column_name = 'DeviceMap'\n",
    "temp = df_all.loc[0] \n",
    "temp[column_name]= input(f'Wrong {column_name} name: {temp[column_name]}. \\nEnter correct {column_name}: ')"
   ]
  },
  {
   "cell_type": "code",
   "execution_count": null,
   "id": "30f86b30",
   "metadata": {},
   "outputs": [],
   "source": [
    "temp\n"
   ]
  },
  {
   "cell_type": "code",
   "execution_count": null,
   "id": "9050a9bc",
   "metadata": {},
   "outputs": [],
   "source": []
  }
 ],
 "metadata": {
  "kernelspec": {
   "display_name": "venv",
   "language": "python",
   "name": "venv"
  },
  "language_info": {
   "codemirror_mode": {
    "name": "ipython",
    "version": 3
   },
   "file_extension": ".py",
   "mimetype": "text/x-python",
   "name": "python",
   "nbconvert_exporter": "python",
   "pygments_lexer": "ipython3",
   "version": "3.9.7"
  }
 },
 "nbformat": 4,
 "nbformat_minor": 5
}
